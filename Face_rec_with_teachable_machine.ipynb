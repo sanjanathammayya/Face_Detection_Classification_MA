{
  "cells": [
    {
      "cell_type": "markdown",
      "id": "45c9ad50",
      "metadata": {
        "id": "45c9ad50"
      },
      "source": [
        "# Face Expression Recognition using Teachable Machine Model"
      ]
    },
    {
      "cell_type": "code",
      "execution_count": null,
      "id": "387f78df",
      "metadata": {
        "id": "387f78df"
      },
      "outputs": [],
      "source": [
        "# If running in Colab, install dependencies (if needed)\n",
        "#!pip install tensorflow opencv-python matplotlib\n"
      ]
    },
    {
      "cell_type": "markdown",
      "source": [
        "tensorflow for deep learning operations.\n",
        "\n",
        "numpy for numerical operations.\n",
        "\n",
        "cv2 (OpenCV) for working with images and webcam input.\n",
        "\n",
        "matplotlib.pyplot for image plotting."
      ],
      "metadata": {
        "id": "3uBwHX3pIC6N"
      },
      "id": "3uBwHX3pIC6N"
    },
    {
      "cell_type": "code",
      "execution_count": null,
      "id": "487569ac",
      "metadata": {
        "id": "487569ac"
      },
      "outputs": [],
      "source": [
        "import tensorflow as tf\n",
        "import numpy as np\n",
        "import cv2\n",
        "import matplotlib.pyplot as plt\n"
      ]
    },
    {
      "cell_type": "code",
      "source": [
        "from tensorflow.keras.models import load_model\n",
        "from tensorflow.keras.layers import DepthwiseConv2D\n",
        "\n",
        "class CustomDepthwiseConv2D(DepthwiseConv2D):\n",
        "    @classmethod\n",
        "    def from_config(cls, config):\n",
        "        config.pop('groups', None)  # Remove the unsupported key\n",
        "        return super().from_config(config)\n",
        "\n",
        "model = load_model('/content/keras_model.h5', custom_objects={\n",
        "    'DepthwiseConv2D': CustomDepthwiseConv2D\n",
        "})\n"
      ],
      "metadata": {
        "colab": {
          "base_uri": "https://localhost:8080/"
        },
        "id": "n9ECxz26fuMW",
        "outputId": "3ef53809-c1c3-4b3e-d0b4-b1798c68c79a"
      },
      "id": "n9ECxz26fuMW",
      "execution_count": null,
      "outputs": [
        {
          "output_type": "stream",
          "name": "stderr",
          "text": [
            "/usr/local/lib/python3.11/dist-packages/keras/src/layers/core/dense.py:87: UserWarning: Do not pass an `input_shape`/`input_dim` argument to a layer. When using Sequential models, prefer using an `Input(shape)` object as the first layer in the model instead.\n",
            "  super().__init__(activity_regularizer=activity_regularizer, **kwargs)\n",
            "WARNING:absl:No training configuration found in the save file, so the model was *not* compiled. Compile it manually.\n"
          ]
        }
      ]
    },
    {
      "cell_type": "markdown",
      "source": [
        "Model file: The model is loaded from keras_model.h5, which is the format exported by Teachable Machine.\n",
        "\n",
        "Custom Layer Handling: Teachable Machine may use DepthwiseConv2D layers with a groups parameter not supported in older TensorFlow versions. This workaround removes the groups parameter when loading\n",
        "\n",
        " Model Type:\n",
        "Although it's not explicitly named in this cell, Teachable Machine image models are typically based on MobileNet or MobileNetV2, which are lightweight convolutional neural networks\n",
        "\n",
        "This file, keras_model.h5, is the exported model from Teachable Machine, and it:\n",
        "\n",
        "\n",
        "\n",
        "Might include layers like DepthwiseConv2D, which is a MobileNet hallmark.\n",
        "\n",
        "Is pre-trained on ImageNet, and retrained (transfer learning) on your custom classes like \"Happy\", \"Sad\", etc."
      ],
      "metadata": {
        "id": "hVG5DNAPH2vA"
      },
      "id": "hVG5DNAPH2vA"
    },
    {
      "cell_type": "markdown",
      "source": [
        "**The .h5 file extension typically refers to HDF5 (Hierarchical Data Format version 5)** files. It's a popular file format for storing and organizing large amounts of numerical data, and it's used across many fields including scientific computing, machine learning, and data engineering.\n",
        "\n",
        "**Key Features of .h5 (HDF5) Files:**\n",
        "Hierarchical structure: Like a file system, it can store data in groups and datasets.\n",
        "\n",
        "Efficient: Handles large datasets that might not fit into memory.\n",
        "\n",
        "Portable: Platform-independent and self-describing.\n",
        "\n",
        "Flexible: Can store arrays, images, tables, and even metadata."
      ],
      "metadata": {
        "id": "XaFnwWs7fXHG"
      },
      "id": "XaFnwWs7fXHG"
    },
    {
      "cell_type": "markdown",
      "source": [
        "**What Does an .h5 Model File Contain?**\n",
        "When you save a Keras model as .h5, it can include:\n",
        "\n",
        "Content\tDescription\n",
        "Model Architecture\tThe structure of the neural network (layers, activations, shapes, etc.)\n",
        "Weights\tThe trained parameters of the model\n",
        "Optimizer State\t(Optional) Info to resume training (like learning rate, momentum)\n",
        "Training Config\tLoss function, metrics, optimizer, etc.\n",
        "Custom Objects\tCustom layers/functions (if provided at load time)"
      ],
      "metadata": {
        "id": "Zpmv2KrPgEfi"
      },
      "id": "Zpmv2KrPgEfi"
    },
    {
      "cell_type": "markdown",
      "source": [],
      "metadata": {
        "id": "Z0QX31dDimzz"
      },
      "id": "Z0QX31dDimzz"
    },
    {
      "cell_type": "markdown",
      "source": [
        "**Traditional Convolution:**\n",
        "Applies a set of filters over the entire input depth (e.g., all RGB channels) and computes new features.\n",
        "\n",
        "Very computationally expensive.\n",
        "\n",
        "\n",
        "**Depthwise Separable Convolution (the heart of MobileNet):**\n",
        "It splits standard convolution into two lightweight steps:\n",
        "\n",
        "Depthwise Convolution:\n",
        "\n",
        "Applies a single filter per input channel (e.g., one for R, one for G, one for B).\n",
        "\n",
        "Captures spatial information independently per channel.\n",
        "\n",
        "Pointwise Convolution (1x1):\n",
        "\n",
        "Applies a 1x1 convolution across all channels to combine them.\n",
        "\n",
        "Learns inter-channel dependencies.\n",
        "\n",
        "✅ This reduces the computation by up to 8-9 times, without a huge drop in accuracy."
      ],
      "metadata": {
        "id": "Oh9Toka7inLT"
      },
      "id": "Oh9Toka7inLT"
    },
    {
      "cell_type": "code",
      "source": [
        "model.summary"
      ],
      "metadata": {
        "colab": {
          "base_uri": "https://localhost:8080/",
          "height": 203
        },
        "id": "ifmiew8Hwn0M",
        "outputId": "0cd88111-0b4c-4b51-fc4f-7b2887fd8684"
      },
      "id": "ifmiew8Hwn0M",
      "execution_count": null,
      "outputs": [
        {
          "output_type": "execute_result",
          "data": {
            "text/plain": [
              "<bound method Model.summary of <Sequential name=sequential_4, built=True>>"
            ],
            "text/html": [
              "<div style=\"max-width:800px; border: 1px solid var(--colab-border-color);\"><style>\n",
              "      pre.function-repr-contents {\n",
              "        overflow-x: auto;\n",
              "        padding: 8px 12px;\n",
              "        max-height: 500px;\n",
              "      }\n",
              "\n",
              "      pre.function-repr-contents.function-repr-contents-collapsed {\n",
              "        cursor: pointer;\n",
              "        max-height: 100px;\n",
              "      }\n",
              "    </style>\n",
              "    <pre style=\"white-space: initial; background:\n",
              "         var(--colab-secondary-surface-color); padding: 8px 12px;\n",
              "         border-bottom: 1px solid var(--colab-border-color);\"><b>keras.src.models.model.Model.summary</b><br/>def summary(line_length=None, positions=None, print_fn=None, expand_nested=False, show_trainable=False, layer_range=None)</pre><pre class=\"function-repr-contents function-repr-contents-collapsed\" style=\"\"><a class=\"filepath\" style=\"display:none\" href=\"#\">/usr/local/lib/python3.11/dist-packages/keras/src/models/model.py</a>Prints a string summary of the network.\n",
              "\n",
              "Args:\n",
              "    line_length: Total length of printed lines\n",
              "        (e.g. set this to adapt the display to different\n",
              "        terminal window sizes).\n",
              "    positions: Relative or absolute positions of log elements\n",
              "        in each line. If not provided, becomes\n",
              "        `[0.3, 0.6, 0.70, 1.]`. Defaults to `None`.\n",
              "    print_fn: Print function to use. By default, prints to `stdout`.\n",
              "        If `stdout` doesn&#x27;t work in your environment, change to `print`.\n",
              "        It will be called on each line of the summary.\n",
              "        You can set it to a custom function\n",
              "        in order to capture the string summary.\n",
              "    expand_nested: Whether to expand the nested models.\n",
              "        Defaults to `False`.\n",
              "    show_trainable: Whether to show if a layer is trainable.\n",
              "        Defaults to `False`.\n",
              "    layer_range: a list or tuple of 2 strings,\n",
              "        which is the starting layer name and ending layer name\n",
              "        (both inclusive) indicating the range of layers to be printed\n",
              "        in summary. It also accepts regex patterns instead of exact\n",
              "        names. In this case, the start predicate will be\n",
              "        the first element that matches `layer_range[0]`\n",
              "        and the end predicate will be the last element\n",
              "        that matches `layer_range[1]`.\n",
              "        By default `None` considers all layers of the model.\n",
              "\n",
              "Raises:\n",
              "    ValueError: if `summary()` is called before the model is built.</pre>\n",
              "      <script>\n",
              "      if (google.colab.kernel.accessAllowed && google.colab.files && google.colab.files.view) {\n",
              "        for (const element of document.querySelectorAll('.filepath')) {\n",
              "          element.style.display = 'block'\n",
              "          element.onclick = (event) => {\n",
              "            event.preventDefault();\n",
              "            event.stopPropagation();\n",
              "            google.colab.files.view(element.textContent, 218);\n",
              "          };\n",
              "        }\n",
              "      }\n",
              "      for (const element of document.querySelectorAll('.function-repr-contents')) {\n",
              "        element.onclick = (event) => {\n",
              "          event.preventDefault();\n",
              "          event.stopPropagation();\n",
              "          element.classList.toggle('function-repr-contents-collapsed');\n",
              "        };\n",
              "      }\n",
              "      </script>\n",
              "      </div>"
            ]
          },
          "metadata": {},
          "execution_count": 29
        }
      ]
    },
    {
      "cell_type": "markdown",
      "source": [
        "MobileNet is a family of convolutional neural networks (CNNs) designed by Google for efficient vision tasks like:\n",
        "\n",
        "Image classification\n",
        "\n",
        "Object detection\n",
        "\n",
        "Face recognition\n",
        "\n",
        "Pose estimation\n",
        "\n",
        "It’s optimized for speed and low memory usage, making it ideal for mobile and embedded systems"
      ],
      "metadata": {
        "id": "YKk3AefuKmBI"
      },
      "id": "YKk3AefuKmBI"
    },
    {
      "cell_type": "markdown",
      "source": [
        "**Traditional Convolution:**\n",
        "Applies a set of filters over the entire input depth (e.g., all RGB channels) and computes new features.\n",
        "\n",
        "Very computationally expensive.\n",
        "\n",
        "\n",
        "**Depthwise Separable Convolution (the heart of MobileNet):**\n",
        "It splits standard convolution into two lightweight steps:\n",
        "\n",
        "Depthwise Convolution:\n",
        "\n",
        "Applies a single filter per input channel (e.g., one for R, one for G, one for B).\n",
        "\n",
        "Captures spatial information independently per channel.\n",
        "\n",
        "Pointwise Convolution (1x1):\n",
        "\n",
        "Applies a 1x1 convolution across all channels to combine them.\n",
        "\n",
        "Learns inter-channel dependencies.\n",
        "\n",
        "✅ This reduces the computation by up to 8-9 times, without a huge drop in accuracy."
      ],
      "metadata": {
        "id": "Q8xu-O50K1u3"
      },
      "id": "Q8xu-O50K1u3"
    },
    {
      "cell_type": "code",
      "source": [
        "import tensorflow.compat.v1 as tf"
      ],
      "metadata": {
        "id": "zivFcgaoe3kn"
      },
      "id": "zivFcgaoe3kn",
      "execution_count": null,
      "outputs": []
    },
    {
      "cell_type": "code",
      "execution_count": null,
      "id": "38b7bc8a",
      "metadata": {
        "id": "38b7bc8a"
      },
      "outputs": [],
      "source": [
        "# Define class names in the same order as Teachable Machine training\n",
        "class_names = [\"Happy\", \"Sad\", \"Angry\", \"Surprised\",\"Fear\",\"Disgust\"]  # Update these as per your model\n"
      ]
    },
    {
      "cell_type": "code",
      "source": [
        "def predict_expression(image_path):\n",
        "    img = cv2.imread(image_path)\n",
        "    img_rgb = cv2.cvtColor(img, cv2.COLOR_BGR2RGB)\n",
        "    img_resized = cv2.resize(img_rgb, (224, 224))  # or 240x240 depending on your model\n",
        "    img_array = np.expand_dims(img_resized / 255.0, axis=0)\n",
        "\n",
        "    predictions = model.predict(img_array)\n",
        "    predicted_index = np.argmax(predictions)\n",
        "\n",
        "    # Check if predicted_index is within the valid range\n",
        "    if predicted_index < len(class_names):\n",
        "        predicted_class = class_names[predicted_index]\n",
        "        confidence = predictions[0][predicted_index]\n",
        "\n",
        "        # Show image with predicted label\n",
        "        plt.imshow(img_rgb)\n",
        "        plt.title(f\"Prediction: {predicted_class} ({confidence * 100:.2f}%)\")\n",
        "        plt.axis('off')\n",
        "        plt.show()\n",
        "\n",
        "        return predicted_class, confidence\n",
        "    else:\n",
        "        print(f\"Error: Predicted index {predicted_index} is out of range for class_names.\")\n",
        "        return None, None  # or handle the error as you prefer"
      ],
      "metadata": {
        "id": "ezWUNzIHmm0T"
      },
      "id": "ezWUNzIHmm0T",
      "execution_count": null,
      "outputs": []
    },
    {
      "cell_type": "markdown",
      "source": [
        "Reads the image using OpenCV.\n",
        "\n",
        "Converts BGR (OpenCV's default) to RGB.\n",
        "\n",
        "Resizes the image to 224×224 (default input size for MobileNet).\n",
        "\n",
        "Normalizes the pixel values to the range [0, 1].\n",
        "\n",
        "Predicts with the model.\n",
        "\n",
        "Gets the class with the highest confidence.\n",
        "\n",
        "Displays the image with the predicted label and confidence.\n",
        "\n",
        "Returns the predicted label and confidence score."
      ],
      "metadata": {
        "id": "agirlOYGJzJ-"
      },
      "id": "agirlOYGJzJ-"
    },
    {
      "cell_type": "code",
      "execution_count": null,
      "id": "0dcec411",
      "metadata": {
        "id": "0dcec411"
      },
      "outputs": [],
      "source": [
        "def predict_expression(image_path):\n",
        "    img = cv2.imread(image_path)\n",
        "    img_rgb = cv2.cvtColor(img, cv2.COLOR_BGR2RGB)\n",
        "    img_resized = cv2.resize(img_rgb, (224, 224))  # or 240x240 depending on your model\n",
        "    img_array = np.expand_dims(img_resized / 255.0, axis=0)\n",
        "\n",
        "    predictions = model.predict(img_array)\n",
        "    predicted_index = np.argmax(predictions)\n",
        "    predicted_class = class_names[predicted_index]\n",
        "    confidence = predictions[0][predicted_index]\n",
        "\n",
        "    # Show image with predicted label\n",
        "    plt.imshow(img_rgb)\n",
        "    plt.title(f\"Prediction: {predicted_class} ({confidence * 100:.2f}%)\")\n",
        "    plt.axis('off')\n",
        "    plt.show()\n",
        "\n",
        "    return predicted_class, confidence\n"
      ]
    },
    {
      "cell_type": "code",
      "execution_count": null,
      "id": "c29785fd",
      "metadata": {
        "colab": {
          "base_uri": "https://localhost:8080/",
          "height": 463
        },
        "id": "c29785fd",
        "outputId": "f5cab4c4-cc3b-4ecc-b886-d213e22b9fc2"
      },
      "outputs": [
        {
          "output_type": "stream",
          "name": "stdout",
          "text": [
            "\u001b[1m1/1\u001b[0m \u001b[32m━━━━━━━━━━━━━━━━━━━━\u001b[0m\u001b[37m\u001b[0m \u001b[1m2s\u001b[0m 2s/step\n"
          ]
        },
        {
          "output_type": "display_data",
          "data": {
            "text/plain": [
              "<Figure size 640x480 with 1 Axes>"
            ],
            "image/png": "[encoded data removed]"
          },
          "metadata": {}
        },
        {
          "output_type": "execute_result",
          "data": {
            "text/plain": [
              "('Surprised', np.float32(0.9483367))"
            ]
          },
          "metadata": {},
          "execution_count": 28
        }
      ],
      "source": [
        "# Example usage\n",
        "test_image_path = \"/content/12551.jpg\"  # Update this path to your image\n",
        "predict_expression(test_image_path)\n"
      ]
    },
    {
      "cell_type": "code",
      "source": [
        "test_image_path = \"/content/3823.jpg\"  # Update this path to your image\n",
        "predict_expression(test_image_path)"
      ],
      "metadata": {
        "colab": {
          "base_uri": "https://localhost:8080/",
          "height": 463
        },
        "id": "mzzlsCB4gZaa",
        "outputId": "07491efd-258c-4789-c078-ddcd91383de6"
      },
      "id": "mzzlsCB4gZaa",
      "execution_count": null,
      "outputs": [
        {
          "output_type": "stream",
          "name": "stdout",
          "text": [
            "\u001b[1m1/1\u001b[0m \u001b[32m━━━━━━━━━━━━━━━━━━━━\u001b[0m\u001b[37m\u001b[0m \u001b[1m0s\u001b[0m 52ms/step\n"
          ]
        },
        {
          "output_type": "display_data",
          "data": {
            "text/plain": [
              "<Figure size 640x480 with 1 Axes>"
            ],
            "image/png": "[encoded data removed]"
          },
          "metadata": {}
        },
        {
          "output_type": "execute_result",
          "data": {
            "text/plain": [
              "('Fear', np.float32(0.961569))"
            ]
          },
          "metadata": {},
          "execution_count": 20
        }
      ]
    },
    {
      "cell_type": "code",
      "source": [],
      "metadata": {
        "id": "JK_faWoGl8ue"
      },
      "id": "JK_faWoGl8ue",
      "execution_count": null,
      "outputs": []
    }
  ],
  "metadata": {
    "colab": {
      "provenance": []
    },
    "language_info": {
      "name": "python"
    },
    "kernelspec": {
      "name": "python3",
      "display_name": "Python 3"
    }
  },
  "nbformat": 4,
  "nbformat_minor": 5
}